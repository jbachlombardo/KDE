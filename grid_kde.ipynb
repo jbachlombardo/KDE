{
 "cells": [
  {
   "cell_type": "code",
   "execution_count": 178,
   "metadata": {},
   "outputs": [],
   "source": [
    "import pandas as pd\n",
    "import numpy as np\n",
    "import sodapy # Dataset fetching\n",
    "import urllib # URL encoding and requesting\n",
    "import json # Read URL request results\n",
    "from sklearn.neighbors import KernelDensity # KDE algorithm\n",
    "from sklearn.model_selection import GridSearchCV, LeaveOneOut # Cross-validation for parameter tuning (small datasets)\n",
    "import matplotlib.pyplot as plt # Plotting final contour results"
   ]
  },
  {
   "cell_type": "markdown",
   "metadata": {},
   "source": [
    "### Read in childcare provider data\n",
    "\n",
    "Data source: <a href = \"https://data.vermont.gov/Education/Vermont-Child-Care-Provider-Data/ctdw-tmfz/data\">VT open data portal</a>\n",
    "\n",
    "Using `Sodapy` API reader, <a href = \"https://dev.socrata.com/foundry/data.vermont.gov/ctdw-tmfz\">explanation of usage (specific to VT child care provider dataset) here</a>\n",
    "\n",
    "Requesting only information relevant to location and capacity\n",
    "\n",
    "Note: V2 = parse by age population to make need comparison"
   ]
  },
  {
   "cell_type": "code",
   "execution_count": 93,
   "metadata": {},
   "outputs": [],
   "source": [
    "client = sodapy.Socrata('data.vermont.gov',\n",
    "                 'my_key',\n",
    "                 username = 'my_email',\n",
    "                 password = 'my_password')"
   ]
  },
  {
   "cell_type": "code",
   "execution_count": 94,
   "metadata": {},
   "outputs": [],
   "source": [
    "results = client.get('ctdw-tmfz', select = 'provider_id, address_1, address_2, provider_town, zip_code, county, total_licensed_capacity', limit = 2500)"
   ]
  },
  {
   "cell_type": "code",
   "execution_count": 95,
   "metadata": {},
   "outputs": [],
   "source": [
    "data = pd.DataFrame.from_records(results)"
   ]
  },
  {
   "cell_type": "code",
   "execution_count": 96,
   "metadata": {},
   "outputs": [
    {
     "data": {
      "text/plain": [
       "(1156, 7)"
      ]
     },
     "execution_count": 96,
     "metadata": {},
     "output_type": "execute_result"
    }
   ],
   "source": [
    "data.shape"
   ]
  },
  {
   "cell_type": "code",
   "execution_count": 97,
   "metadata": {},
   "outputs": [
    {
     "data": {
      "text/html": [
       "<div>\n",
       "<style scoped>\n",
       "    .dataframe tbody tr th:only-of-type {\n",
       "        vertical-align: middle;\n",
       "    }\n",
       "\n",
       "    .dataframe tbody tr th {\n",
       "        vertical-align: top;\n",
       "    }\n",
       "\n",
       "    .dataframe thead th {\n",
       "        text-align: right;\n",
       "    }\n",
       "</style>\n",
       "<table border=\"1\" class=\"dataframe\">\n",
       "  <thead>\n",
       "    <tr style=\"text-align: right;\">\n",
       "      <th></th>\n",
       "      <th>provider_id</th>\n",
       "      <th>address_1</th>\n",
       "      <th>address_2</th>\n",
       "      <th>provider_town</th>\n",
       "      <th>zip_code</th>\n",
       "      <th>county</th>\n",
       "      <th>total_licensed_capacity</th>\n",
       "    </tr>\n",
       "  </thead>\n",
       "  <tbody>\n",
       "    <tr>\n",
       "      <th>0</th>\n",
       "      <td>3805</td>\n",
       "      <td>84 Grange Hall Road</td>\n",
       "      <td>Clarendon Elementary School</td>\n",
       "      <td>Clarendon</td>\n",
       "      <td>05759</td>\n",
       "      <td>Rutland</td>\n",
       "      <td>60</td>\n",
       "    </tr>\n",
       "    <tr>\n",
       "      <th>1</th>\n",
       "      <td>286886</td>\n",
       "      <td>4515 VT Route 109</td>\n",
       "      <td>0</td>\n",
       "      <td>Belvidere</td>\n",
       "      <td>05442</td>\n",
       "      <td>Lamoille</td>\n",
       "      <td>16</td>\n",
       "    </tr>\n",
       "    <tr>\n",
       "      <th>2</th>\n",
       "      <td>28342</td>\n",
       "      <td>3 Willow Lane</td>\n",
       "      <td>0</td>\n",
       "      <td>Jericho</td>\n",
       "      <td>05465</td>\n",
       "      <td>Chittenden</td>\n",
       "      <td>10</td>\n",
       "    </tr>\n",
       "    <tr>\n",
       "      <th>3</th>\n",
       "      <td>24009</td>\n",
       "      <td>1</td>\n",
       "      <td>0</td>\n",
       "      <td>Lyndon</td>\n",
       "      <td>05851</td>\n",
       "      <td>Caledonia</td>\n",
       "      <td>10</td>\n",
       "    </tr>\n",
       "    <tr>\n",
       "      <th>4</th>\n",
       "      <td>3354</td>\n",
       "      <td>234 North Main Street</td>\n",
       "      <td>0</td>\n",
       "      <td>Danby</td>\n",
       "      <td>05739</td>\n",
       "      <td>Rutland</td>\n",
       "      <td>50</td>\n",
       "    </tr>\n",
       "  </tbody>\n",
       "</table>\n",
       "</div>"
      ],
      "text/plain": [
       "  provider_id              address_1                    address_2  \\\n",
       "0        3805    84 Grange Hall Road  Clarendon Elementary School   \n",
       "1      286886      4515 VT Route 109                            0   \n",
       "2       28342          3 Willow Lane                            0   \n",
       "3       24009                      1                            0   \n",
       "4        3354  234 North Main Street                            0   \n",
       "\n",
       "  provider_town zip_code      county total_licensed_capacity  \n",
       "0     Clarendon    05759     Rutland                      60  \n",
       "1     Belvidere    05442    Lamoille                      16  \n",
       "2       Jericho    05465  Chittenden                      10  \n",
       "3        Lyndon    05851   Caledonia                      10  \n",
       "4         Danby    05739     Rutland                      50  "
      ]
     },
     "execution_count": 97,
     "metadata": {},
     "output_type": "execute_result"
    }
   ],
   "source": [
    "data.head()"
   ]
  },
  {
   "cell_type": "markdown",
   "metadata": {},
   "source": [
    "Create full address field for lat/lon lookup"
   ]
  },
  {
   "cell_type": "code",
   "execution_count": 98,
   "metadata": {},
   "outputs": [],
   "source": [
    "data['full_address'] = data['address_1'] + ' ' + data['provider_town'] + ' ' + data['zip_code']"
   ]
  },
  {
   "cell_type": "markdown",
   "metadata": {},
   "source": [
    "### Make Google Maps API request for lat/lon of each provider and map to dataframe\n",
    "\n",
    "<a href = \"https://developers.google.com/maps/documentation/geocoding/overview\">Google Maps API geocoding reference here</a>"
   ]
  },
  {
   "cell_type": "code",
   "execution_count": 99,
   "metadata": {},
   "outputs": [],
   "source": [
    "key = 'my_key'"
   ]
  },
  {
   "cell_type": "code",
   "execution_count": 100,
   "metadata": {},
   "outputs": [],
   "source": [
    "base_url = 'https://maps.googleapis.com/maps/api/geocode/json?'"
   ]
  },
  {
   "cell_type": "code",
   "execution_count": 101,
   "metadata": {},
   "outputs": [],
   "source": [
    "provider_id_address_dict = pd.Series(data['full_address'].values, index = data['provider_id']).to_dict()"
   ]
  },
  {
   "cell_type": "code",
   "execution_count": 107,
   "metadata": {},
   "outputs": [],
   "source": [
    "provider_lat_dict = {}\n",
    "provider_lon_dict = {}\n",
    "for provider in provider_id_address_dict.keys() :\n",
    "    address = provider_id_address_dict[provider]\n",
    "    query_url = base_url + urllib.parse.urlencode({'address': address, 'key': key})\n",
    "    request_result = urllib.request.urlopen(query_url)\n",
    "    result_data = request_result.read().decode()\n",
    "    result_js_data = json.loads(result_data)\n",
    "    lat = result_js_data['results'][0]['geometry']['location']['lat']\n",
    "    lon = result_js_data['results'][0]['geometry']['location']['lng']\n",
    "    provider_lat_dict[provider] = lat\n",
    "    provider_lon_dict[provider] = lon"
   ]
  },
  {
   "cell_type": "code",
   "execution_count": 108,
   "metadata": {},
   "outputs": [],
   "source": [
    "data['Lat'] = data['provider_id'].map(provider_lat_dict)\n",
    "data['Lon'] = data['provider_id'].map(provider_lon_dict)"
   ]
  },
  {
   "cell_type": "code",
   "execution_count": 109,
   "metadata": {},
   "outputs": [
    {
     "data": {
      "text/html": [
       "<div>\n",
       "<style scoped>\n",
       "    .dataframe tbody tr th:only-of-type {\n",
       "        vertical-align: middle;\n",
       "    }\n",
       "\n",
       "    .dataframe tbody tr th {\n",
       "        vertical-align: top;\n",
       "    }\n",
       "\n",
       "    .dataframe thead th {\n",
       "        text-align: right;\n",
       "    }\n",
       "</style>\n",
       "<table border=\"1\" class=\"dataframe\">\n",
       "  <thead>\n",
       "    <tr style=\"text-align: right;\">\n",
       "      <th></th>\n",
       "      <th>provider_id</th>\n",
       "      <th>address_1</th>\n",
       "      <th>address_2</th>\n",
       "      <th>provider_town</th>\n",
       "      <th>zip_code</th>\n",
       "      <th>county</th>\n",
       "      <th>total_licensed_capacity</th>\n",
       "      <th>full_address</th>\n",
       "      <th>Lat</th>\n",
       "      <th>Lon</th>\n",
       "    </tr>\n",
       "  </thead>\n",
       "  <tbody>\n",
       "    <tr>\n",
       "      <th>0</th>\n",
       "      <td>3805</td>\n",
       "      <td>84 Grange Hall Road</td>\n",
       "      <td>Clarendon Elementary School</td>\n",
       "      <td>Clarendon</td>\n",
       "      <td>05759</td>\n",
       "      <td>Rutland</td>\n",
       "      <td>60</td>\n",
       "      <td>84 Grange Hall Road Clarendon 05759</td>\n",
       "      <td>43.563400</td>\n",
       "      <td>-72.967860</td>\n",
       "    </tr>\n",
       "    <tr>\n",
       "      <th>1</th>\n",
       "      <td>286886</td>\n",
       "      <td>4515 VT Route 109</td>\n",
       "      <td>0</td>\n",
       "      <td>Belvidere</td>\n",
       "      <td>05442</td>\n",
       "      <td>Lamoille</td>\n",
       "      <td>16</td>\n",
       "      <td>4515 VT Route 109 Belvidere 05442</td>\n",
       "      <td>44.747093</td>\n",
       "      <td>-72.701528</td>\n",
       "    </tr>\n",
       "    <tr>\n",
       "      <th>2</th>\n",
       "      <td>28342</td>\n",
       "      <td>3 Willow Lane</td>\n",
       "      <td>0</td>\n",
       "      <td>Jericho</td>\n",
       "      <td>05465</td>\n",
       "      <td>Chittenden</td>\n",
       "      <td>10</td>\n",
       "      <td>3 Willow Lane Jericho 05465</td>\n",
       "      <td>44.519144</td>\n",
       "      <td>-72.954748</td>\n",
       "    </tr>\n",
       "    <tr>\n",
       "      <th>3</th>\n",
       "      <td>24009</td>\n",
       "      <td>1</td>\n",
       "      <td>0</td>\n",
       "      <td>Lyndon</td>\n",
       "      <td>05851</td>\n",
       "      <td>Caledonia</td>\n",
       "      <td>10</td>\n",
       "      <td>1 Lyndon 05851</td>\n",
       "      <td>44.545309</td>\n",
       "      <td>-72.000072</td>\n",
       "    </tr>\n",
       "    <tr>\n",
       "      <th>4</th>\n",
       "      <td>3354</td>\n",
       "      <td>234 North Main Street</td>\n",
       "      <td>0</td>\n",
       "      <td>Danby</td>\n",
       "      <td>05739</td>\n",
       "      <td>Rutland</td>\n",
       "      <td>50</td>\n",
       "      <td>234 North Main Street Danby 05739</td>\n",
       "      <td>43.349809</td>\n",
       "      <td>-72.995171</td>\n",
       "    </tr>\n",
       "  </tbody>\n",
       "</table>\n",
       "</div>"
      ],
      "text/plain": [
       "  provider_id              address_1                    address_2  \\\n",
       "0        3805    84 Grange Hall Road  Clarendon Elementary School   \n",
       "1      286886      4515 VT Route 109                            0   \n",
       "2       28342          3 Willow Lane                            0   \n",
       "3       24009                      1                            0   \n",
       "4        3354  234 North Main Street                            0   \n",
       "\n",
       "  provider_town zip_code      county total_licensed_capacity  \\\n",
       "0     Clarendon    05759     Rutland                      60   \n",
       "1     Belvidere    05442    Lamoille                      16   \n",
       "2       Jericho    05465  Chittenden                      10   \n",
       "3        Lyndon    05851   Caledonia                      10   \n",
       "4         Danby    05739     Rutland                      50   \n",
       "\n",
       "                          full_address        Lat        Lon  \n",
       "0  84 Grange Hall Road Clarendon 05759  43.563400 -72.967860  \n",
       "1    4515 VT Route 109 Belvidere 05442  44.747093 -72.701528  \n",
       "2          3 Willow Lane Jericho 05465  44.519144 -72.954748  \n",
       "3                       1 Lyndon 05851  44.545309 -72.000072  \n",
       "4    234 North Main Street Danby 05739  43.349809 -72.995171  "
      ]
     },
     "execution_count": 109,
     "metadata": {},
     "output_type": "execute_result"
    }
   ],
   "source": [
    "data.head()"
   ]
  },
  {
   "cell_type": "markdown",
   "metadata": {},
   "source": [
    "### Clean duplicates and transform lat/lon into radians"
   ]
  },
  {
   "cell_type": "markdown",
   "metadata": {},
   "source": [
    "**Check if any duplicate lat/lon pairs**"
   ]
  },
  {
   "cell_type": "code",
   "execution_count": 125,
   "metadata": {},
   "outputs": [
    {
     "data": {
      "text/plain": [
       "0"
      ]
     },
     "execution_count": 125,
     "metadata": {},
     "output_type": "execute_result"
    }
   ],
   "source": [
    "sum(data.duplicated(subset = ['Lat', 'Lon']))"
   ]
  },
  {
   "cell_type": "code",
   "execution_count": 121,
   "metadata": {},
   "outputs": [
    {
     "data": {
      "text/html": [
       "<div>\n",
       "<style scoped>\n",
       "    .dataframe tbody tr th:only-of-type {\n",
       "        vertical-align: middle;\n",
       "    }\n",
       "\n",
       "    .dataframe tbody tr th {\n",
       "        vertical-align: top;\n",
       "    }\n",
       "\n",
       "    .dataframe thead th {\n",
       "        text-align: right;\n",
       "    }\n",
       "</style>\n",
       "<table border=\"1\" class=\"dataframe\">\n",
       "  <thead>\n",
       "    <tr style=\"text-align: right;\">\n",
       "      <th></th>\n",
       "      <th>provider_id</th>\n",
       "      <th>address_1</th>\n",
       "      <th>address_2</th>\n",
       "      <th>provider_town</th>\n",
       "      <th>zip_code</th>\n",
       "      <th>county</th>\n",
       "      <th>total_licensed_capacity</th>\n",
       "      <th>full_address</th>\n",
       "      <th>Lat</th>\n",
       "      <th>Lon</th>\n",
       "    </tr>\n",
       "  </thead>\n",
       "  <tbody>\n",
       "    <tr>\n",
       "      <th>595</th>\n",
       "      <td>3842</td>\n",
       "      <td>1</td>\n",
       "      <td>0</td>\n",
       "      <td>Brattleboro</td>\n",
       "      <td>05301</td>\n",
       "      <td>Windham</td>\n",
       "      <td>47</td>\n",
       "      <td>1 Brattleboro 05301</td>\n",
       "      <td>42.851859</td>\n",
       "      <td>-72.558441</td>\n",
       "    </tr>\n",
       "    <tr>\n",
       "      <th>864</th>\n",
       "      <td>282807</td>\n",
       "      <td>1</td>\n",
       "      <td>0</td>\n",
       "      <td>Brattleboro</td>\n",
       "      <td>05301</td>\n",
       "      <td>Windham</td>\n",
       "      <td>15</td>\n",
       "      <td>1 Brattleboro 05301</td>\n",
       "      <td>42.851859</td>\n",
       "      <td>-72.558441</td>\n",
       "    </tr>\n",
       "    <tr>\n",
       "      <th>846</th>\n",
       "      <td>3961</td>\n",
       "      <td>181 Orchard Road</td>\n",
       "      <td>0</td>\n",
       "      <td>Bennington</td>\n",
       "      <td>05201</td>\n",
       "      <td>Bennington</td>\n",
       "      <td>34</td>\n",
       "      <td>181 Orchard Road Bennington 05201</td>\n",
       "      <td>42.898836</td>\n",
       "      <td>-73.202349</td>\n",
       "    </tr>\n",
       "    <tr>\n",
       "      <th>562</th>\n",
       "      <td>3321</td>\n",
       "      <td>181 Orchard Road</td>\n",
       "      <td>0</td>\n",
       "      <td>Bennington</td>\n",
       "      <td>05201</td>\n",
       "      <td>Bennington</td>\n",
       "      <td>35</td>\n",
       "      <td>181 Orchard Road Bennington 05201</td>\n",
       "      <td>42.898836</td>\n",
       "      <td>-73.202349</td>\n",
       "    </tr>\n",
       "    <tr>\n",
       "      <th>731</th>\n",
       "      <td>284403</td>\n",
       "      <td>1</td>\n",
       "      <td>0</td>\n",
       "      <td>Bennington</td>\n",
       "      <td>05201</td>\n",
       "      <td>Bennington</td>\n",
       "      <td>30</td>\n",
       "      <td>1 Bennington 05201</td>\n",
       "      <td>42.899915</td>\n",
       "      <td>-73.202878</td>\n",
       "    </tr>\n",
       "    <tr>\n",
       "      <th>732</th>\n",
       "      <td>2754</td>\n",
       "      <td>1</td>\n",
       "      <td>0</td>\n",
       "      <td>Bennington</td>\n",
       "      <td>05201</td>\n",
       "      <td>Bennington</td>\n",
       "      <td>86</td>\n",
       "      <td>1 Bennington 05201</td>\n",
       "      <td>42.899915</td>\n",
       "      <td>-73.202878</td>\n",
       "    </tr>\n",
       "    <tr>\n",
       "      <th>140</th>\n",
       "      <td>207569</td>\n",
       "      <td>9 School Street</td>\n",
       "      <td>0</td>\n",
       "      <td>Bennington</td>\n",
       "      <td>05257</td>\n",
       "      <td>Bennington</td>\n",
       "      <td>15</td>\n",
       "      <td>9 School Street Bennington 05257</td>\n",
       "      <td>42.930050</td>\n",
       "      <td>-73.244560</td>\n",
       "    </tr>\n",
       "    <tr>\n",
       "      <th>617</th>\n",
       "      <td>368861</td>\n",
       "      <td>9 School St</td>\n",
       "      <td>0</td>\n",
       "      <td>Bennington</td>\n",
       "      <td>05257</td>\n",
       "      <td>Bennington</td>\n",
       "      <td>30</td>\n",
       "      <td>9 School St Bennington 05257</td>\n",
       "      <td>42.930050</td>\n",
       "      <td>-73.244560</td>\n",
       "    </tr>\n",
       "    <tr>\n",
       "      <th>858</th>\n",
       "      <td>364180</td>\n",
       "      <td>52 Schoolhouse Road</td>\n",
       "      <td>0</td>\n",
       "      <td>Dummerston</td>\n",
       "      <td>05346</td>\n",
       "      <td>Windham</td>\n",
       "      <td>30</td>\n",
       "      <td>52 Schoolhouse Road Dummerston 05346</td>\n",
       "      <td>42.933668</td>\n",
       "      <td>-72.537919</td>\n",
       "    </tr>\n",
       "    <tr>\n",
       "      <th>481</th>\n",
       "      <td>87159</td>\n",
       "      <td>52 Schoolhouse Road</td>\n",
       "      <td>0</td>\n",
       "      <td>Dummerston</td>\n",
       "      <td>05301</td>\n",
       "      <td>Windham</td>\n",
       "      <td>26</td>\n",
       "      <td>52 Schoolhouse Road Dummerston 05301</td>\n",
       "      <td>42.933668</td>\n",
       "      <td>-72.537919</td>\n",
       "    </tr>\n",
       "  </tbody>\n",
       "</table>\n",
       "</div>"
      ],
      "text/plain": [
       "    provider_id            address_1 address_2 provider_town zip_code  \\\n",
       "595        3842                    1         0   Brattleboro    05301   \n",
       "864      282807                    1         0   Brattleboro    05301   \n",
       "846        3961     181 Orchard Road         0    Bennington    05201   \n",
       "562        3321     181 Orchard Road         0    Bennington    05201   \n",
       "731      284403                    1         0    Bennington    05201   \n",
       "732        2754                    1         0    Bennington    05201   \n",
       "140      207569      9 School Street         0    Bennington    05257   \n",
       "617      368861          9 School St         0    Bennington    05257   \n",
       "858      364180  52 Schoolhouse Road         0    Dummerston    05346   \n",
       "481       87159  52 Schoolhouse Road         0    Dummerston    05301   \n",
       "\n",
       "         county total_licensed_capacity                          full_address  \\\n",
       "595     Windham                      47                   1 Brattleboro 05301   \n",
       "864     Windham                      15                   1 Brattleboro 05301   \n",
       "846  Bennington                      34     181 Orchard Road Bennington 05201   \n",
       "562  Bennington                      35     181 Orchard Road Bennington 05201   \n",
       "731  Bennington                      30                    1 Bennington 05201   \n",
       "732  Bennington                      86                    1 Bennington 05201   \n",
       "140  Bennington                      15      9 School Street Bennington 05257   \n",
       "617  Bennington                      30          9 School St Bennington 05257   \n",
       "858     Windham                      30  52 Schoolhouse Road Dummerston 05346   \n",
       "481     Windham                      26  52 Schoolhouse Road Dummerston 05301   \n",
       "\n",
       "           Lat        Lon  \n",
       "595  42.851859 -72.558441  \n",
       "864  42.851859 -72.558441  \n",
       "846  42.898836 -73.202349  \n",
       "562  42.898836 -73.202349  \n",
       "731  42.899915 -73.202878  \n",
       "732  42.899915 -73.202878  \n",
       "140  42.930050 -73.244560  \n",
       "617  42.930050 -73.244560  \n",
       "858  42.933668 -72.537919  \n",
       "481  42.933668 -72.537919  "
      ]
     },
     "execution_count": 121,
     "metadata": {},
     "output_type": "execute_result"
    }
   ],
   "source": [
    "data[data.duplicated(subset = ['Lat', 'Lon'], keep = False)].sort_values(by = 'Lat').head(10)"
   ]
  },
  {
   "cell_type": "markdown",
   "metadata": {},
   "source": [
    "Appears to be duplicate entries: while `provider_id` shows different numbers, assumption is that they are re-registrations at the same location that have not been updated within the system. For ease's sake (without calling the state to identify which is the correct, current entry) will just drop the first one."
   ]
  },
  {
   "cell_type": "code",
   "execution_count": 124,
   "metadata": {},
   "outputs": [
    {
     "data": {
      "text/plain": [
       "(1047, 10)"
      ]
     },
     "execution_count": 124,
     "metadata": {},
     "output_type": "execute_result"
    }
   ],
   "source": [
    "data = data.drop_duplicates(subset = ['Lat', 'Lon'], keep = 'first')\n",
    "data.shape"
   ]
  },
  {
   "cell_type": "code",
   "execution_count": 126,
   "metadata": {},
   "outputs": [
    {
     "name": "stderr",
     "output_type": "stream",
     "text": [
      "<ipython-input-126-44cbcb090e12>:1: SettingWithCopyWarning: \n",
      "A value is trying to be set on a copy of a slice from a DataFrame.\n",
      "Try using .loc[row_indexer,col_indexer] = value instead\n",
      "\n",
      "See the caveats in the documentation: https://pandas.pydata.org/pandas-docs/stable/user_guide/indexing.html#returning-a-view-versus-a-copy\n",
      "  data['Lat_Rad'] = np.radians(data['Lat'])\n",
      "<ipython-input-126-44cbcb090e12>:2: SettingWithCopyWarning: \n",
      "A value is trying to be set on a copy of a slice from a DataFrame.\n",
      "Try using .loc[row_indexer,col_indexer] = value instead\n",
      "\n",
      "See the caveats in the documentation: https://pandas.pydata.org/pandas-docs/stable/user_guide/indexing.html#returning-a-view-versus-a-copy\n",
      "  data['Lon_Rad'] = np.radians(data['Lon'])\n"
     ]
    },
    {
     "data": {
      "text/html": [
       "<div>\n",
       "<style scoped>\n",
       "    .dataframe tbody tr th:only-of-type {\n",
       "        vertical-align: middle;\n",
       "    }\n",
       "\n",
       "    .dataframe tbody tr th {\n",
       "        vertical-align: top;\n",
       "    }\n",
       "\n",
       "    .dataframe thead th {\n",
       "        text-align: right;\n",
       "    }\n",
       "</style>\n",
       "<table border=\"1\" class=\"dataframe\">\n",
       "  <thead>\n",
       "    <tr style=\"text-align: right;\">\n",
       "      <th></th>\n",
       "      <th>provider_id</th>\n",
       "      <th>address_1</th>\n",
       "      <th>address_2</th>\n",
       "      <th>provider_town</th>\n",
       "      <th>zip_code</th>\n",
       "      <th>county</th>\n",
       "      <th>total_licensed_capacity</th>\n",
       "      <th>full_address</th>\n",
       "      <th>Lat</th>\n",
       "      <th>Lon</th>\n",
       "      <th>Lat_Rad</th>\n",
       "      <th>Lon_Rad</th>\n",
       "    </tr>\n",
       "  </thead>\n",
       "  <tbody>\n",
       "    <tr>\n",
       "      <th>0</th>\n",
       "      <td>3805</td>\n",
       "      <td>84 Grange Hall Road</td>\n",
       "      <td>Clarendon Elementary School</td>\n",
       "      <td>Clarendon</td>\n",
       "      <td>05759</td>\n",
       "      <td>Rutland</td>\n",
       "      <td>60</td>\n",
       "      <td>84 Grange Hall Road Clarendon 05759</td>\n",
       "      <td>43.563400</td>\n",
       "      <td>-72.967860</td>\n",
       "      <td>0.760325</td>\n",
       "      <td>-1.273529</td>\n",
       "    </tr>\n",
       "    <tr>\n",
       "      <th>1</th>\n",
       "      <td>286886</td>\n",
       "      <td>4515 VT Route 109</td>\n",
       "      <td>0</td>\n",
       "      <td>Belvidere</td>\n",
       "      <td>05442</td>\n",
       "      <td>Lamoille</td>\n",
       "      <td>16</td>\n",
       "      <td>4515 VT Route 109 Belvidere 05442</td>\n",
       "      <td>44.747093</td>\n",
       "      <td>-72.701528</td>\n",
       "      <td>0.780984</td>\n",
       "      <td>-1.268881</td>\n",
       "    </tr>\n",
       "    <tr>\n",
       "      <th>2</th>\n",
       "      <td>28342</td>\n",
       "      <td>3 Willow Lane</td>\n",
       "      <td>0</td>\n",
       "      <td>Jericho</td>\n",
       "      <td>05465</td>\n",
       "      <td>Chittenden</td>\n",
       "      <td>10</td>\n",
       "      <td>3 Willow Lane Jericho 05465</td>\n",
       "      <td>44.519144</td>\n",
       "      <td>-72.954748</td>\n",
       "      <td>0.777006</td>\n",
       "      <td>-1.273301</td>\n",
       "    </tr>\n",
       "    <tr>\n",
       "      <th>3</th>\n",
       "      <td>24009</td>\n",
       "      <td>1</td>\n",
       "      <td>0</td>\n",
       "      <td>Lyndon</td>\n",
       "      <td>05851</td>\n",
       "      <td>Caledonia</td>\n",
       "      <td>10</td>\n",
       "      <td>1 Lyndon 05851</td>\n",
       "      <td>44.545309</td>\n",
       "      <td>-72.000072</td>\n",
       "      <td>0.777462</td>\n",
       "      <td>-1.256638</td>\n",
       "    </tr>\n",
       "    <tr>\n",
       "      <th>4</th>\n",
       "      <td>3354</td>\n",
       "      <td>234 North Main Street</td>\n",
       "      <td>0</td>\n",
       "      <td>Danby</td>\n",
       "      <td>05739</td>\n",
       "      <td>Rutland</td>\n",
       "      <td>50</td>\n",
       "      <td>234 North Main Street Danby 05739</td>\n",
       "      <td>43.349809</td>\n",
       "      <td>-72.995171</td>\n",
       "      <td>0.756597</td>\n",
       "      <td>-1.274006</td>\n",
       "    </tr>\n",
       "  </tbody>\n",
       "</table>\n",
       "</div>"
      ],
      "text/plain": [
       "  provider_id              address_1                    address_2  \\\n",
       "0        3805    84 Grange Hall Road  Clarendon Elementary School   \n",
       "1      286886      4515 VT Route 109                            0   \n",
       "2       28342          3 Willow Lane                            0   \n",
       "3       24009                      1                            0   \n",
       "4        3354  234 North Main Street                            0   \n",
       "\n",
       "  provider_town zip_code      county total_licensed_capacity  \\\n",
       "0     Clarendon    05759     Rutland                      60   \n",
       "1     Belvidere    05442    Lamoille                      16   \n",
       "2       Jericho    05465  Chittenden                      10   \n",
       "3        Lyndon    05851   Caledonia                      10   \n",
       "4         Danby    05739     Rutland                      50   \n",
       "\n",
       "                          full_address        Lat        Lon   Lat_Rad  \\\n",
       "0  84 Grange Hall Road Clarendon 05759  43.563400 -72.967860  0.760325   \n",
       "1    4515 VT Route 109 Belvidere 05442  44.747093 -72.701528  0.780984   \n",
       "2          3 Willow Lane Jericho 05465  44.519144 -72.954748  0.777006   \n",
       "3                       1 Lyndon 05851  44.545309 -72.000072  0.777462   \n",
       "4    234 North Main Street Danby 05739  43.349809 -72.995171  0.756597   \n",
       "\n",
       "    Lon_Rad  \n",
       "0 -1.273529  \n",
       "1 -1.268881  \n",
       "2 -1.273301  \n",
       "3 -1.256638  \n",
       "4 -1.274006  "
      ]
     },
     "execution_count": 126,
     "metadata": {},
     "output_type": "execute_result"
    }
   ],
   "source": [
    "data['Lat_Rad'] = np.radians(data['Lat'])\n",
    "data['Lon_Rad'] = np.radians(data['Lon'])\n",
    "data.head()"
   ]
  },
  {
   "cell_type": "code",
   "execution_count": 127,
   "metadata": {},
   "outputs": [],
   "source": [
    "data.to_csv('vt_childcare_with_latlon.csv')"
   ]
  },
  {
   "cell_type": "code",
   "execution_count": 2,
   "metadata": {},
   "outputs": [],
   "source": [
    "# Resumption point if kernel shuts down\n",
    "data = pd.read_csv('vt_childcare_with_latlon.csv')"
   ]
  },
  {
   "cell_type": "markdown",
   "metadata": {},
   "source": [
    "### Transform data into KDE-ready arrays\n",
    "\n",
    "`x`/`y` are `lon`/`lat`. \n",
    "\n",
    "V2 is to add as an additional density metric `total_licensed_capacity`.\n",
    "\n",
    "References are to the following posts:\n",
    "- <a href = \"https://towardsdatascience.com/space-science-with-python-density-estimators-in-the-sky-87fbcfb089a6\">TDS blog</a> (general approach to x-y grid creation)\n",
    "- <a href = \"https://scikit-learn.org/stable/auto_examples/neighbors/plot_species_kde.html\">SKLearn KDE example</a> (SKLearn implementation)\n",
    "- <a href = \"https://jakevdp.github.io/PythonDataScienceHandbook/05.13-kernel-density-estimation.html\">Python Data Science Handbook post</a> (grid search bandwidth finding)"
   ]
  },
  {
   "cell_type": "markdown",
   "metadata": {},
   "source": [
    "1. Create `True`/`False` array for KDE computation"
   ]
  },
  {
   "cell_type": "code",
   "execution_count": 168,
   "metadata": {},
   "outputs": [],
   "source": [
    "lat_lon_childcare = data[['Lon', 'Lat']].values"
   ]
  },
  {
   "cell_type": "markdown",
   "metadata": {},
   "source": [
    "2. Use cross-validation to find the best bandwidth"
   ]
  },
  {
   "cell_type": "code",
   "execution_count": 182,
   "metadata": {},
   "outputs": [
    {
     "data": {
      "text/plain": [
       "GridSearchCV(estimator=KernelDensity(algorithm='ball_tree', metric='haversine'),\n",
       "             param_grid={'bandwidth': array([ 0.1       ,  0.10476158,  0.10974988,  0.1149757 ,  0.12045035,\n",
       "        0.12618569,  0.13219411,  0.13848864,  0.14508288,  0.15199111,\n",
       "        0.15922828,  0.16681005,  0.17475284,  0.18307383,  0.19179103,\n",
       "        0.2009233 ,  0.21049041,  0.22051307,  0.23101297,  0.24201283,\n",
       "        0.25353645,  0.26560878,  0.27825...\n",
       "        2.05651231,  2.15443469,  2.25701972,  2.36448941,  2.47707636,\n",
       "        2.59502421,  2.71858824,  2.84803587,  2.98364724,  3.12571585,\n",
       "        3.27454916,  3.43046929,  3.59381366,  3.76493581,  3.94420606,\n",
       "        4.1320124 ,  4.32876128,  4.53487851,  4.75081016,  4.97702356,\n",
       "        5.21400829,  5.46227722,  5.72236766,  5.9948425 ,  6.28029144,\n",
       "        6.57933225,  6.8926121 ,  7.22080902,  7.56463328,  7.92482898,\n",
       "        8.30217568,  8.69749003,  9.11162756,  9.54548457, 10.        ])})"
      ]
     },
     "execution_count": 182,
     "metadata": {},
     "output_type": "execute_result"
    }
   ],
   "source": [
    "bandwidths = 10 ** np.linspace(-1, 1, 100)\n",
    "grid = GridSearchCV(KernelDensity(metric = 'haversine', kernel='gaussian', algorithm='ball_tree'), {'bandwidth': bandwidths})\n",
    "grid.fit(lat_lon_childcare)"
   ]
  },
  {
   "cell_type": "code",
   "execution_count": 188,
   "metadata": {},
   "outputs": [
    {
     "data": {
      "text/plain": [
       "{'bandwidth': 0.11497569953977356}"
      ]
     },
     "execution_count": 188,
     "metadata": {},
     "output_type": "execute_result"
    }
   ],
   "source": [
    "best_bandwidth = grid.best_params_['bandwidth']\n",
    "grid.best_params_"
   ]
  },
  {
   "cell_type": "markdown",
   "metadata": {},
   "source": [
    "3. Compute KDE"
   ]
  },
  {
   "cell_type": "code",
   "execution_count": 189,
   "metadata": {},
   "outputs": [],
   "source": [
    "kde = KernelDensity(bandwidth = best_bandwidth, metric = 'haversine', kernel='gaussian', algorithm='ball_tree')"
   ]
  },
  {
   "cell_type": "code",
   "execution_count": 190,
   "metadata": {},
   "outputs": [
    {
     "data": {
      "text/plain": [
       "KernelDensity(algorithm='ball_tree', bandwidth=0.11497569953977356,\n",
       "              metric='haversine')"
      ]
     },
     "execution_count": 190,
     "metadata": {},
     "output_type": "execute_result"
    }
   ],
   "source": [
    "kde.fit(lat_lon_childcare)"
   ]
  },
  {
   "cell_type": "markdown",
   "metadata": {},
   "source": [
    "3. Create dummy space over which to plot the KDE (grid covering the `lat`/`lon` plane used to compute the KDE, for first pass simply a 1000 x 1000 grid)"
   ]
  },
  {
   "cell_type": "code",
   "execution_count": 191,
   "metadata": {},
   "outputs": [],
   "source": [
    "x_array = np.linspace(data['Lon'].min(), data['Lon'].max(), 100)\n",
    "y_array = np.linspace(data['Lat'].min(), data['Lat'].max(), 100)\n",
    "\n",
    "X, Y = np.meshgrid(x_array, y_array[::-1])\n",
    "\n",
    "xy = np.vstack([X.ravel(), Y.ravel()]).T"
   ]
  },
  {
   "cell_type": "markdown",
   "metadata": {},
   "source": [
    "4. Score the dummy space based on fitted KDE model"
   ]
  },
  {
   "cell_type": "code",
   "execution_count": 192,
   "metadata": {},
   "outputs": [],
   "source": [
    "scores = np.exp(kde.score_samples(xy))"
   ]
  },
  {
   "cell_type": "markdown",
   "metadata": {},
   "source": [
    "### Create contour levels and plot final product"
   ]
  },
  {
   "cell_type": "code",
   "execution_count": 202,
   "metadata": {},
   "outputs": [],
   "source": [
    "n_levels = 10\n",
    "contour_levels = np.linspace(0, scores.max(), n_levels)"
   ]
  },
  {
   "cell_type": "code",
   "execution_count": 203,
   "metadata": {},
   "outputs": [],
   "source": [
    "scores_plot = scores.reshape(X.shape)"
   ]
  },
  {
   "cell_type": "code",
   "execution_count": 204,
   "metadata": {},
   "outputs": [
    {
     "data": {
      "image/png": "[encoded data removed]",
      "text/plain": [
       "<Figure size 648x432 with 1 Axes>"
      ]
     },
     "metadata": {
      "needs_background": "light"
     },
     "output_type": "display_data"
    }
   ],
   "source": [
    "fig, ax = plt.subplots(figsize = (9, 6))\n",
    "ax.contourf(X, Y, scores_plot, levels = contour_levels, cmap = plt.cm.Reds)\n",
    "ax.scatter(data['Lon'], data['Lat'], c = 'white', s = 5)\n",
    "# # Optional x and y limits to zoom in on a portion of the graph\n",
    "# xmin = -72.25\n",
    "# xmax = -71.75\n",
    "# ymin = 44.25\n",
    "# ymax = 44.75\n",
    "# ax.set_xlim(xmin, xmax)\n",
    "# ax.set_ylim(ymin, ymax)\n",
    "plt.show()"
   ]
  },
  {
   "cell_type": "markdown",
   "metadata": {},
   "source": [
    "Note: It appears that this dataset only covers the top half of the state..."
   ]
  },
  {
   "cell_type": "markdown",
   "metadata": {},
   "source": [
    "#### Optional table to zoom in on binned and scored x-y grid"
   ]
  },
  {
   "cell_type": "code",
   "execution_count": 199,
   "metadata": {},
   "outputs": [],
   "source": [
    "scored_data = pd.DataFrame(xy, columns = ['Longitude', 'Latitude'])\n",
    "scored_data['Score'] = scores"
   ]
  },
  {
   "cell_type": "code",
   "execution_count": 200,
   "metadata": {},
   "outputs": [],
   "source": [
    "scored_data['Bin'] = pd.cut(scored_data['Score'], bins = contour_levels)"
   ]
  },
  {
   "cell_type": "code",
   "execution_count": 201,
   "metadata": {},
   "outputs": [
    {
     "data": {
      "text/html": [
       "<div>\n",
       "<style scoped>\n",
       "    .dataframe tbody tr th:only-of-type {\n",
       "        vertical-align: middle;\n",
       "    }\n",
       "\n",
       "    .dataframe tbody tr th {\n",
       "        vertical-align: top;\n",
       "    }\n",
       "\n",
       "    .dataframe thead th {\n",
       "        text-align: right;\n",
       "    }\n",
       "</style>\n",
       "<table border=\"1\" class=\"dataframe\">\n",
       "  <thead>\n",
       "    <tr style=\"text-align: right;\">\n",
       "      <th></th>\n",
       "      <th>Longitude</th>\n",
       "      <th>Latitude</th>\n",
       "      <th>Score</th>\n",
       "      <th>Bin</th>\n",
       "    </tr>\n",
       "  </thead>\n",
       "  <tbody>\n",
       "    <tr>\n",
       "      <th>2072</th>\n",
       "      <td>-71.757435</td>\n",
       "      <td>44.267081</td>\n",
       "      <td>0.027363</td>\n",
       "      <td>(0.0, 0.0445]</td>\n",
       "    </tr>\n",
       "    <tr>\n",
       "      <th>1372</th>\n",
       "      <td>-71.757435</td>\n",
       "      <td>44.528031</td>\n",
       "      <td>0.074025</td>\n",
       "      <td>(0.0445, 0.0891]</td>\n",
       "    </tr>\n",
       "    <tr>\n",
       "      <th>872</th>\n",
       "      <td>-71.757435</td>\n",
       "      <td>44.714424</td>\n",
       "      <td>0.036525</td>\n",
       "      <td>(0.0, 0.0445]</td>\n",
       "    </tr>\n",
       "    <tr>\n",
       "      <th>1572</th>\n",
       "      <td>-71.757435</td>\n",
       "      <td>44.453474</td>\n",
       "      <td>0.075469</td>\n",
       "      <td>(0.0445, 0.0891]</td>\n",
       "    </tr>\n",
       "    <tr>\n",
       "      <th>1672</th>\n",
       "      <td>-71.757435</td>\n",
       "      <td>44.416195</td>\n",
       "      <td>0.069996</td>\n",
       "      <td>(0.0445, 0.0891]</td>\n",
       "    </tr>\n",
       "    <tr>\n",
       "      <th>...</th>\n",
       "      <td>...</td>\n",
       "      <td>...</td>\n",
       "      <td>...</td>\n",
       "      <td>...</td>\n",
       "    </tr>\n",
       "    <tr>\n",
       "      <th>1854</th>\n",
       "      <td>-72.243016</td>\n",
       "      <td>44.341638</td>\n",
       "      <td>0.221533</td>\n",
       "      <td>(0.178, 0.223]</td>\n",
       "    </tr>\n",
       "    <tr>\n",
       "      <th>1154</th>\n",
       "      <td>-72.243016</td>\n",
       "      <td>44.602588</td>\n",
       "      <td>0.213827</td>\n",
       "      <td>(0.178, 0.223]</td>\n",
       "    </tr>\n",
       "    <tr>\n",
       "      <th>2054</th>\n",
       "      <td>-72.243016</td>\n",
       "      <td>44.267081</td>\n",
       "      <td>0.185028</td>\n",
       "      <td>(0.178, 0.223]</td>\n",
       "    </tr>\n",
       "    <tr>\n",
       "      <th>1954</th>\n",
       "      <td>-72.243016</td>\n",
       "      <td>44.304360</td>\n",
       "      <td>0.202690</td>\n",
       "      <td>(0.178, 0.223]</td>\n",
       "    </tr>\n",
       "    <tr>\n",
       "      <th>854</th>\n",
       "      <td>-72.243016</td>\n",
       "      <td>44.714424</td>\n",
       "      <td>0.208793</td>\n",
       "      <td>(0.178, 0.223]</td>\n",
       "    </tr>\n",
       "  </tbody>\n",
       "</table>\n",
       "<p>247 rows × 4 columns</p>\n",
       "</div>"
      ],
      "text/plain": [
       "      Longitude   Latitude     Score               Bin\n",
       "2072 -71.757435  44.267081  0.027363     (0.0, 0.0445]\n",
       "1372 -71.757435  44.528031  0.074025  (0.0445, 0.0891]\n",
       "872  -71.757435  44.714424  0.036525     (0.0, 0.0445]\n",
       "1572 -71.757435  44.453474  0.075469  (0.0445, 0.0891]\n",
       "1672 -71.757435  44.416195  0.069996  (0.0445, 0.0891]\n",
       "...         ...        ...       ...               ...\n",
       "1854 -72.243016  44.341638  0.221533    (0.178, 0.223]\n",
       "1154 -72.243016  44.602588  0.213827    (0.178, 0.223]\n",
       "2054 -72.243016  44.267081  0.185028    (0.178, 0.223]\n",
       "1954 -72.243016  44.304360  0.202690    (0.178, 0.223]\n",
       "854  -72.243016  44.714424  0.208793    (0.178, 0.223]\n",
       "\n",
       "[247 rows x 4 columns]"
      ]
     },
     "execution_count": 201,
     "metadata": {},
     "output_type": "execute_result"
    }
   ],
   "source": [
    "scored_data[(scored_data['Longitude'] > xmin) & (scored_data['Longitude'] < xmax) & (scored_data['Latitude'] > ymin) & (scored_data['Latitude'] < ymax)].sort_values(by = 'Longitude', ascending = False)"
   ]
  },
  {
   "cell_type": "code",
   "execution_count": null,
   "metadata": {},
   "outputs": [],
   "source": []
  }
 ],
 "metadata": {
  "kernelspec": {
   "display_name": "Python 3",
   "language": "python",
   "name": "python3"
  },
  "language_info": {
   "codemirror_mode": {
    "name": "ipython",
    "version": 3
   },
   "file_extension": ".py",
   "mimetype": "text/x-python",
   "name": "python",
   "nbconvert_exporter": "python",
   "pygments_lexer": "ipython3",
   "version": "3.8.3"
  }
 },
 "nbformat": 4,
 "nbformat_minor": 4
}
